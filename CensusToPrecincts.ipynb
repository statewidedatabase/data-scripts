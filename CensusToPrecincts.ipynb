{
 "cells": [
  {
   "cell_type": "markdown",
   "metadata": {},
   "source": [
    "#### This code is provided by the California Statewide Database to provide a template on merging census data with precincts."
   ]
  },
  {
   "cell_type": "markdown",
   "metadata": {},
   "source": [
    "# Libraries"
   ]
  },
  {
   "cell_type": "code",
   "execution_count": null,
   "metadata": {},
   "outputs": [],
   "source": [
    "##########################################################################################################\n",
    "############################    Do Not Change Code Below   ###############################################\n",
    "##########################################################################################################\n",
    "\n",
    "from functions import CVAPfileCheck\n",
    "from functions import CVAPcolumnChange\n",
    "from functions import importData\n",
    "from functions import filterData\n",
    "from functions import mergeData\n",
    "from functions import partialBlck\n",
    "from functions import concatPartialCVAP\n",
    "from functions import dataFilter"
   ]
  },
  {
   "cell_type": "markdown",
   "metadata": {},
   "source": [
    "_____"
   ]
  },
  {
   "cell_type": "markdown",
   "metadata": {},
   "source": [
    "# Main Code"
   ]
  },
  {
   "cell_type": "markdown",
   "metadata": {},
   "source": [
    "### Display tables"
   ]
  },
  {
   "cell_type": "code",
   "execution_count": null,
   "metadata": {},
   "outputs": [],
   "source": [
    "##########################################################################################################\n",
    "############################ Make Changes Below   ########################################################\n",
    "##########################################################################################################\n",
    "\n",
    "# Insert filename Ex: filename1 = 'Total_cvap_by_block.dbf'\n",
    "\n",
    "filename1 = ''\n",
    "filename2 = ''\n",
    "\n",
    "filename3 = 'Data/state_p16_srprec_to_city.csv'\n",
    "df3       = importData(filename3)"
   ]
  },
  {
   "cell_type": "code",
   "execution_count": null,
   "metadata": {},
   "outputs": [],
   "source": [
    "##########################################################################################################\n",
    "############################    Do Not Change Code Below   ###############################################\n",
    "##########################################################################################################\n",
    "\n",
    "df1       = importData(filename1)\n",
    "df2       = importData(filename2)"
   ]
  },
  {
   "cell_type": "code",
   "execution_count": null,
   "metadata": {},
   "outputs": [],
   "source": [
    "# Displays the data for filename1\n",
    "display(df1)"
   ]
  },
  {
   "cell_type": "code",
   "execution_count": null,
   "metadata": {},
   "outputs": [],
   "source": [
    "# Displays the data for filename2\n",
    "display(df2)"
   ]
  },
  {
   "cell_type": "code",
   "execution_count": null,
   "metadata": {},
   "outputs": [],
   "source": [
    "# Display column names for df1\n",
    "df1.columns"
   ]
  },
  {
   "cell_type": "code",
   "execution_count": null,
   "metadata": {},
   "outputs": [],
   "source": [
    "# Display column names for df2\n",
    "df2.columns"
   ]
  },
  {
   "cell_type": "markdown",
   "metadata": {},
   "source": [
    "### Merge Code"
   ]
  },
  {
   "cell_type": "code",
   "execution_count": null,
   "metadata": {},
   "outputs": [],
   "source": [
    "##########################################################################################################\n",
    "############################ Make Changes Below   ########################################################\n",
    "##########################################################################################################\n",
    "\n",
    "# Column name you want to merge on for each file. Left on refers to column name for filename1 and right on re\n",
    "# refers to column name for filename2. Ex: leftOn    = 'block_key'\n",
    "\n",
    "leftOn    = ''\n",
    "rightOn   = ''\n",
    "\n",
    "# Filter dataframe option. If no filter desired, leave variable equal to None. \n",
    "# Filter is sensative to datatypes. You need to check if a number is an int or string\n",
    "# Example 1 if you want to filter based on county and tract:\n",
    "# filterVar = {'county': ['1', '3'], 'tract':['421100']}\n",
    "# Example 2 if you want to filter based on county:\n",
    "# filterVar = {'county': ['1']}\n",
    "\n",
    "filterVar = None\n",
    "\n",
    "# Filer dataframe based on city name\n",
    "\n",
    "filterCity = 'BERKELEY'"
   ]
  },
  {
   "cell_type": "code",
   "execution_count": null,
   "metadata": {},
   "outputs": [],
   "source": [
    "##########################################################################################################\n",
    "############################    Do Not Change Code Below   ###############################################\n",
    "##########################################################################################################\n",
    "featureSet   = ['srprec_key','city']\n",
    "filterKey    = 'city'\n",
    "left         = 'srprec_key'\n",
    "right        = 'srprec_key'\n",
    "\n",
    "\n",
    "df3_filtered = dataFilter(df3, filterKey, featureSet,  filterCity)\n",
    "mergedDf  = mergeData(df1, df2, leftOn, rightOn, filterVar)\n",
    "mergedDf  = mergeData(mergedDf, df3_filtered, left, right)\n",
    "partialDf = partialBlck(mergedDf)\n",
    "finalDf   = concatPartialCVAP(partialDf, mergedDf)"
   ]
  },
  {
   "cell_type": "markdown",
   "metadata": {},
   "source": [
    "### Displaying and Saving final data table"
   ]
  },
  {
   "cell_type": "code",
   "execution_count": null,
   "metadata": {},
   "outputs": [],
   "source": [
    "# Display final data table\n",
    "display(finalDf)"
   ]
  },
  {
   "cell_type": "code",
   "execution_count": null,
   "metadata": {},
   "outputs": [],
   "source": [
    "# Saving final data table to csv\n",
    "finalDf.to_csv('CensusToPrecincts.csv')"
   ]
  },
  {
   "cell_type": "markdown",
   "metadata": {},
   "source": []
  }
 ],
 "metadata": {
  "kernelspec": {
   "display_name": "Python 3",
   "language": "python",
   "name": "python3"
  },
  "language_info": {
   "codemirror_mode": {
    "name": "ipython",
    "version": 3
   },
   "file_extension": ".py",
   "mimetype": "text/x-python",
   "name": "python",
   "nbconvert_exporter": "python",
   "pygments_lexer": "ipython3",
   "version": "3.7.3"
  }
 },
 "nbformat": 4,
 "nbformat_minor": 2
}
